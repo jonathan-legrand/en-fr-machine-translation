{
 "cells": [
  {
   "cell_type": "code",
   "execution_count": 1,
   "id": "4715855b",
   "metadata": {
    "ExecuteTime": {
     "end_time": "2022-11-10T17:37:11.244379Z",
     "start_time": "2022-11-10T17:37:10.777339Z"
    }
   },
   "outputs": [],
   "source": [
    "import os\n",
    "import pandas as pd"
   ]
  },
  {
   "cell_type": "markdown",
   "id": "986e6ffe",
   "metadata": {},
   "source": [
    "# Loading"
   ]
  },
  {
   "cell_type": "markdown",
   "id": "1adc4124",
   "metadata": {},
   "source": [
    "## Load EDP"
   ]
  },
  {
   "cell_type": "code",
   "execution_count": 2,
   "id": "2e5adf9c",
   "metadata": {
    "ExecuteTime": {
     "end_time": "2022-11-10T17:37:11.297103Z",
     "start_time": "2022-11-10T17:37:11.247333Z"
    }
   },
   "outputs": [
    {
     "name": "stdout",
     "output_type": "stream",
     "text": [
      "Tooth exfoliation came two weeks after the healing.\n",
      "Une exfoliation dentaire est survenue deux semaines après la guérison.\n",
      "\n",
      "\n",
      "In these cases of mandibular prognathism, the prosthetic treatment becomes complex, and the prosthodontist must face on the one hand the obligation of functional result conditioning prosthetic balance and on the other hand the aesthetic requirement of increasingly demanding patients.\n",
      "Face à ces cas de promandibulie, la réalisation prothétique devient complexe, et le praticien doit faire face d’une part à une obligation de résultat fonctionnel conditionnant l’équilibre prothétique d’autre part à un impératif esthétique de patients de plus en plus exigeants.\n",
      "\n",
      "\n",
      "After a median follow-up of 17 months, no local recurrence occurred.\n",
      "L’évolution était favorable avec un recul de 17 mois.\n",
      "\n",
      "\n",
      "Small-scale family agriculture has been encouraged for several years by international institutions as an answer to global issues (food security and climate change), especially in Southern countries where this type of agriculture still prevails.\n",
      "Depuis quelques années, la petite agriculture familiale est mise sur le devant de la scène par les institutions internationales et présentée comme étant susceptible de répondre aux enjeux globaux (sécurité alimentaire et changement climatique), et ce, notamment, dans les pays du Sud où ce type d’agriculture reste majoritaire.\n",
      "\n",
      "\n",
      "Except for some partial prosthetic restorations (bonded fixed partial denture, lumineers), for each prosthetic treatment an imperative step of temporization is set by provisional restorations.\n",
      "A l’exception de certaines restaurations prothétiques partielles (bridge collé, facette), tout traitement prothétique passe impérativement par une étape de temporisation au moyen de prothèses provisoires.\n",
      "\n",
      "\n"
     ]
    }
   ],
   "source": [
    "fr_files = sorted(os.listdir(\"EDP/WMT/all/FR\"))\n",
    "en_files = sorted(os.listdir(\"EDP/WMT/all/EN\"))\n",
    "assert fr_files == en_files\n",
    "\n",
    "lines = []\n",
    "en_path = \"EDP/WMT/all/EN\"\n",
    "fr_path = \"EDP/WMT/all/FR\"\n",
    "fnames = en_files\n",
    "for fname in fnames:\n",
    "    with open(os.path.join(en_path, fname), \"r\") as f_en, open(os.path.join(fr_path, fname), \"r\") as f_fr:\n",
    "        for en_line, fr_line in zip(f_en, f_fr):\n",
    "            lines.append((en_line[:-1], fr_line[:-1]))\n",
    "\n",
    "sentences_EDP = pd.DataFrame(lines, columns=(\"english\", \"french\"))\n",
    "\n",
    "# Visualize sample\n",
    "sample = sentences_EDP.sample(n=5)\n",
    "for _, row in sample.iterrows():\n",
    "    print(row.english)\n",
    "    print(row.french)\n",
    "    print(\"\\n\")"
   ]
  },
  {
   "cell_type": "markdown",
   "id": "0f27409e",
   "metadata": {},
   "source": [
    "## Load pubmed"
   ]
  },
  {
   "cell_type": "code",
   "execution_count": 3,
   "id": "df257416",
   "metadata": {
    "ExecuteTime": {
     "end_time": "2022-11-10T17:37:11.934319Z",
     "start_time": "2022-11-10T17:37:11.300032Z"
    }
   },
   "outputs": [
    {
     "name": "stdout",
     "output_type": "stream",
     "text": [
      "he vexing problem of post-amputation pain: what is the optimal perioperative pain management for below-knee amputatio\n",
      "Le recours aux médicaments psychotropes dans le Nord - Pas-de-Calais (France)\n",
      "\n",
      "\n",
      "Pluripotent stem cells: a cell model for early cardiac development\n",
      "Cellules souches pluripotentes : un modèle cellulaire de développement cardiaque précoce\n",
      "\n",
      "\n",
      "Immunization coverage and factors associated with drop-out in children 12 to 23 months in Djoungolo-Cameroon Health District in 2012\n",
      "Couverture vaccinale et facteurs associés à la non complétude vaccinale des enfants de 12 à 23 mois du district de santé de Djoungolo-Cameroun en 2012\n",
      "\n",
      "\n",
      "Allophagy, or how the embryo eliminates mitochondria and other paternal organelles\n",
      "L'allophagie, ou comment l'embryon élimine les mitochondries et autres organites paternels\n",
      "\n",
      "\n",
      "Nurse clinician and yoga\n",
      "Clinique infirmière et yoga\n",
      "\n",
      "\n",
      "48607\n"
     ]
    }
   ],
   "source": [
    "with open(\"PUBMED/pubmed_en_fr.txt\", \"r\") as f_in:\n",
    "    raw_lines = f_in.readlines()  \n",
    "\n",
    "clean_lines = []\n",
    "\n",
    "for index, line in enumerate(raw_lines):\n",
    "    _, en, fr = line.split(\"|\")\n",
    "    en = en[1:-2]\n",
    "    fr = fr[:-2]\n",
    "    clean_lines.append((en, fr))\n",
    "    \n",
    "    # The domain specific corpus should be smaller\n",
    "    if index > 50000:\n",
    "        break\n",
    "\n",
    "sentences_pubmed = pd.DataFrame(clean_lines, columns=(\"english\", \"french\"))\n",
    "\n",
    "# Remove two typical issues from the dataset\n",
    "m_1 = sentences_pubmed.english != \"Not Available\"\n",
    "m_2 = sentences_pubmed.english != \"In Process Citation\"\n",
    "sentences_pubmed = sentences_pubmed[m_1 & m_2]\n",
    "\n",
    "sample = sentences_pubmed.sample(n=5)\n",
    "for _, row in sample.iterrows():\n",
    "    print(row.english)\n",
    "    print(row.french)\n",
    "    print(\"\\n\")\n",
    "    \n",
    "print(len(sentences_pubmed))"
   ]
  },
  {
   "cell_type": "markdown",
   "id": "5b582832",
   "metadata": {},
   "source": [
    "## Load gigafren"
   ]
  },
  {
   "cell_type": "code",
   "execution_count": 4,
   "id": "ef406631",
   "metadata": {
    "ExecuteTime": {
     "end_time": "2022-11-10T17:37:14.233052Z",
     "start_time": "2022-11-10T17:37:11.939307Z"
    }
   },
   "outputs": [
    {
     "name": "stdout",
     "output_type": "stream",
     "text": [
      "Due to the expense of long-haul travel from Australia, the added costs incurred to family groups may act as a disincentive to longer trips.\n",
      "En raison du coût des voyages long-courriers à partir de l'Australie, les coûts supplémentaires que suppose le fait de voyager en famille peuvent dissuader d'effectuer des voyages plus longs.\n",
      "\n",
      "\n",
      "Economic / Political Environment GDP growth: forecasted economic growth: unemployment rate: inflation: consumer price index: exchange rate: +5.2% in 2008 (OECD Forecast) +4.7% in 2008 3.2% in November 2.0% +3.5% in November CAD $1 = KRW 960\n",
      "L'an dernier, le transporteur a offert un vol nolisé quatre fois par semaine du 1er juillet au 3 septembre; le coefficient d'occupation moyen pour les mois de juillet et août était de 97,3 % et 88,3 % respectivement.\n",
      "\n",
      "\n",
      "The goal was to make participants aware of language rights and the possibility of pursuing legal studies.\n",
      "L'objectif était de sensibiliser les participants aux droits linguistiques et à la possibilité de poursuivre des études en droit.\n",
      "\n",
      "\n",
      "The survey results also showed that the attraction tickets most commonly added to vacation packages were theme parks, adventure tours and historical tours, in order of preference.\n",
      "Le sondage a aussi révélé que les billets d'entrée le plus souvent ajoutés aux forfaits de vacances étaient ceux de parcs thématiques et d'excursions axées sur l'aventure et sur l'histoire, dans cet ordre.\n",
      "\n",
      "\n",
      "ATS Bulletin\n",
      "Bulletin SEA\n",
      "\n",
      "\n",
      "250002\n"
     ]
    }
   ],
   "source": [
    "sentences_gigafren = []\n",
    "gigafren_path = \"gigafren/en-fr\"\n",
    "\n",
    "with open(os.path.join(\n",
    "    gigafren_path, \"giga-fren.en-fr.en\"), \"r\"\n",
    ") as f_en, open(os.path.join(\n",
    "    gigafren_path, \"giga-fren.en-fr.fr\"), \"r\"\n",
    ") as f_fr:\n",
    "    for index, pair in enumerate(zip(f_en, f_fr)):\n",
    "        \n",
    "        # Remove \\n characters\n",
    "        pair = (s[:-1] for s in pair)\n",
    "        \n",
    "        sentences_gigafren.append(pair)\n",
    "        \n",
    "        # Take only the first 250000\n",
    "        if index > 250000:\n",
    "            break\n",
    "            \n",
    "sentences_gigafren = pd.DataFrame(\n",
    "    sentences_gigafren, columns=(\"english\", \"french\")\n",
    ")\n",
    "\n",
    "sample = sentences_gigafren.sample(n=5)\n",
    "for _, row in sample.iterrows():\n",
    "    print(row.english)\n",
    "    print(row.french)\n",
    "    print(\"\\n\")\n",
    "\n",
    "print(len(sentences_gigafren))"
   ]
  },
  {
   "cell_type": "code",
   "execution_count": 5,
   "id": "6c61053f",
   "metadata": {
    "ExecuteTime": {
     "end_time": "2022-11-10T17:37:14.256046Z",
     "start_time": "2022-11-10T17:37:14.236036Z"
    }
   },
   "outputs": [
    {
     "name": "stdout",
     "output_type": "stream",
     "text": [
      "The NRC Industrial Materials Institute (NRC-IMI) has established the Centre with facilities on the campus of the Université du Québec à Chicoutimi.\n",
      "L'Institut des matériaux industriels du CNRC (IMI-CNRC) a établi le Centre avec des installations sur le campus de l'Université du Québec à Chicoutimi.\n",
      "\n",
      "\n",
      "o Representative from the industrial library sector.\n",
      "o les bibliothèques du secteur industriel.\n",
      "\n",
      "\n",
      "Youth Employment Initiatives\n",
      "Initiatives emploi jeunesse\n",
      "\n",
      "\n",
      "Access to Information see also Privacy? 3.\n",
      "Adolescents voir aussi Enfants, Jeunes adulte? 3.\n",
      "\n",
      "\n",
      "A qualitative approach based on human rights indicators could:\n",
      "Une approche qualitative fondée sur des indicateurs de droits de la personne pourrait :\n",
      "\n",
      "\n",
      "250002\n"
     ]
    }
   ],
   "source": [
    "sample = sentences_gigafren.sample(n=5)\n",
    "for _, row in sample.iterrows():\n",
    "    print(row.english)\n",
    "    print(row.french)\n",
    "    print(\"\\n\")\n",
    "\n",
    "print(len(sentences_gigafren))"
   ]
  },
  {
   "cell_type": "code",
   "execution_count": 6,
   "id": "f4930fdc",
   "metadata": {
    "ExecuteTime": {
     "end_time": "2022-11-10T17:37:14.486570Z",
     "start_time": "2022-11-10T17:37:14.259430Z"
    }
   },
   "outputs": [
    {
     "data": {
      "text/html": [
       "<div>\n",
       "<style scoped>\n",
       "    .dataframe tbody tr th:only-of-type {\n",
       "        vertical-align: middle;\n",
       "    }\n",
       "\n",
       "    .dataframe tbody tr th {\n",
       "        vertical-align: top;\n",
       "    }\n",
       "\n",
       "    .dataframe thead th {\n",
       "        text-align: right;\n",
       "    }\n",
       "</style>\n",
       "<table border=\"1\" class=\"dataframe\">\n",
       "  <thead>\n",
       "    <tr style=\"text-align: right;\">\n",
       "      <th></th>\n",
       "      <th>english</th>\n",
       "      <th>french</th>\n",
       "    </tr>\n",
       "  </thead>\n",
       "  <tbody>\n",
       "    <tr>\n",
       "      <th>0</th>\n",
       "      <td>Rugman and Waverman analyze the cases examined...</td>\n",
       "      <td>Rugman et Waverman analysent les dossiers exam...</td>\n",
       "    </tr>\n",
       "    <tr>\n",
       "      <th>1</th>\n",
       "      <td>Consumer Overview - Canada and the United Stat...</td>\n",
       "      <td>Vue d'ensemble du marché des consommateurs - C...</td>\n",
       "    </tr>\n",
       "    <tr>\n",
       "      <th>2</th>\n",
       "      <td>UK statistics are only available quarterly.</td>\n",
       "      <td>Estimations l'Australie (-22 %).</td>\n",
       "    </tr>\n",
       "    <tr>\n",
       "      <th>3</th>\n",
       "      <td>o Lawful Access - Consultation - 2003</td>\n",
       "      <td>o Discussion table ronde sur les priorités fut...</td>\n",
       "    </tr>\n",
       "    <tr>\n",
       "      <th>4</th>\n",
       "      <td>o The prior consent of the Attorney General of...</td>\n",
       "      <td>o Il est nécessaire d´obtenir le consentement ...</td>\n",
       "    </tr>\n",
       "    <tr>\n",
       "      <th>...</th>\n",
       "      <td>...</td>\n",
       "      <td>...</td>\n",
       "    </tr>\n",
       "    <tr>\n",
       "      <th>301519</th>\n",
       "      <td>The regular price for each journal back file i...</td>\n",
       "      <td>Le prix courant à l'unité est de 2 000 $, mais...</td>\n",
       "    </tr>\n",
       "    <tr>\n",
       "      <th>301520</th>\n",
       "      <td>The Optional Protocol gives Canadians a right ...</td>\n",
       "      <td>Le Protocole facultatif confère aux Canadiens ...</td>\n",
       "    </tr>\n",
       "    <tr>\n",
       "      <th>301521</th>\n",
       "      <td>Regional Salaries Average salaries per month v...</td>\n",
       "      <td>Salaires selon les régions Les salaires mensue...</td>\n",
       "    </tr>\n",
       "    <tr>\n",
       "      <th>301522</th>\n",
       "      <td>Future Outlook MC&amp;IT: - Clients suggest re-pac...</td>\n",
       "      <td>Perspectives d'avenir RCVM : - Des clients sug...</td>\n",
       "    </tr>\n",
       "    <tr>\n",
       "      <th>301523</th>\n",
       "      <td>The bill of lading should include:</td>\n",
       "      <td>Le connaissement doit contenir les renseigneme...</td>\n",
       "    </tr>\n",
       "  </tbody>\n",
       "</table>\n",
       "<p>301524 rows × 2 columns</p>\n",
       "</div>"
      ],
      "text/plain": [
       "                                                  english  \\\n",
       "0       Rugman and Waverman analyze the cases examined...   \n",
       "1       Consumer Overview - Canada and the United Stat...   \n",
       "2             UK statistics are only available quarterly.   \n",
       "3                   o Lawful Access - Consultation - 2003   \n",
       "4       o The prior consent of the Attorney General of...   \n",
       "...                                                   ...   \n",
       "301519  The regular price for each journal back file i...   \n",
       "301520  The Optional Protocol gives Canadians a right ...   \n",
       "301521  Regional Salaries Average salaries per month v...   \n",
       "301522  Future Outlook MC&IT: - Clients suggest re-pac...   \n",
       "301523                 The bill of lading should include:   \n",
       "\n",
       "                                                   french  \n",
       "0       Rugman et Waverman analysent les dossiers exam...  \n",
       "1       Vue d'ensemble du marché des consommateurs - C...  \n",
       "2                        Estimations l'Australie (-22 %).  \n",
       "3       o Discussion table ronde sur les priorités fut...  \n",
       "4       o Il est nécessaire d´obtenir le consentement ...  \n",
       "...                                                   ...  \n",
       "301519  Le prix courant à l'unité est de 2 000 $, mais...  \n",
       "301520  Le Protocole facultatif confère aux Canadiens ...  \n",
       "301521  Salaires selon les régions Les salaires mensue...  \n",
       "301522  Perspectives d'avenir RCVM : - Des clients sug...  \n",
       "301523  Le connaissement doit contenir les renseigneme...  \n",
       "\n",
       "[301524 rows x 2 columns]"
      ]
     },
     "execution_count": 6,
     "metadata": {},
     "output_type": "execute_result"
    }
   ],
   "source": [
    "# We shuffle the datasets together\n",
    "sentences = pd.concat((sentences_EDP, sentences_gigafren, sentences_pubmed))\n",
    "sentences = sentences.sample(frac=1).reset_index(drop=True)\n",
    "sentences"
   ]
  },
  {
   "cell_type": "markdown",
   "id": "b984bcdd",
   "metadata": {},
   "source": [
    "# Cleaning"
   ]
  },
  {
   "cell_type": "code",
   "execution_count": 7,
   "id": "482a4341",
   "metadata": {
    "ExecuteTime": {
     "end_time": "2022-11-10T17:37:14.880578Z",
     "start_time": "2022-11-10T17:37:14.489393Z"
    }
   },
   "outputs": [],
   "source": [
    "sentences[\"source_len\"] = sentences.iloc[:, 0].map(len)\n",
    "sentences[\"target_len\"] = sentences.iloc[:, 1].map(len)"
   ]
  },
  {
   "cell_type": "code",
   "execution_count": 8,
   "id": "e9bd7109",
   "metadata": {
    "ExecuteTime": {
     "end_time": "2022-11-10T17:37:14.916724Z",
     "start_time": "2022-11-10T17:37:14.883314Z"
    }
   },
   "outputs": [
    {
     "name": "stdout",
     "output_type": "stream",
     "text": [
      "Hospitals need not demonstrate proficiency in palliative or pain management in order to operate; medical schools need not provide more than beyond minimal training in this area for accreditation; and physicians are not required to demonstrate competence or proficiency in this area of medicine in order to gain licensure in this country.\n",
      "Les hôpitaux n'ont pas à prouver leur compétence en soins palliatifs ou en maîtrise de la douleur pour fonctionner; les écoles de médecine n'ont pas besoin de fournir plus qu'une formation minimale dans ce domaine pour obtenir une accréditation; et les médecins n'ont pas à se montrer compétents dans ce domaine pour obtenir le droit d'exercer ici au Canada.\n"
     ]
    }
   ],
   "source": [
    "L_MAX = 300\n",
    "L_MIN = 10\n",
    "len_mask = (sentences.source_len < L_MAX) & (sentences.source_len > L_MIN) & (sentences.target_len > L_MIN) & (sentences.target_len > L_MIN)\n",
    "bad_sample = sentences[~len_mask].sample(n=1)\n",
    "print(bad_sample.iloc[0, 0])\n",
    "print(bad_sample.iloc[0, 1])"
   ]
  },
  {
   "cell_type": "code",
   "execution_count": 9,
   "id": "68d1edab",
   "metadata": {
    "ExecuteTime": {
     "end_time": "2022-11-10T17:37:15.001460Z",
     "start_time": "2022-11-10T17:37:14.922306Z"
    }
   },
   "outputs": [
    {
     "name": "stdout",
     "output_type": "stream",
     "text": [
      "Percentage of sentences left if we removed the sentences longer than 300 and shorter than 10 characters : 0.95\n",
      "286188 sentences left\n"
     ]
    }
   ],
   "source": [
    "n_sentences_left = len(sentences[len_mask])\n",
    "fraction_left = n_sentences_left / len(sentences)\n",
    "print(\"Percentage of sentences left if we removed the sentences longer than {} and shorter than {} characters : {:.2f}\".format(L_MAX, L_MIN, fraction_left))\n",
    "print(\"{} sentences left\".format(n_sentences_left))"
   ]
  },
  {
   "cell_type": "code",
   "execution_count": 10,
   "id": "48c0c358",
   "metadata": {
    "ExecuteTime": {
     "end_time": "2022-11-10T17:37:15.061268Z",
     "start_time": "2022-11-10T17:37:15.012666Z"
    }
   },
   "outputs": [],
   "source": [
    "# Update sentences content\n",
    "sentences = sentences[len_mask]"
   ]
  },
  {
   "cell_type": "markdown",
   "id": "31b81029",
   "metadata": {},
   "source": [
    "## Find bad alignements\n",
    "\n",
    "Differences in target and source sentence lengths may indicate bad alignements. \n",
    "We remove from the dataframe the pairs for which the character count difference is superior to a certain threshold."
   ]
  },
  {
   "cell_type": "code",
   "execution_count": 11,
   "id": "ad89399a",
   "metadata": {
    "ExecuteTime": {
     "end_time": "2022-11-10T17:37:15.083824Z",
     "start_time": "2022-11-10T17:37:15.065870Z"
    }
   },
   "outputs": [
    {
     "name": "stderr",
     "output_type": "stream",
     "text": [
      "/tmp/ipykernel_37879/1372219726.py:1: SettingWithCopyWarning: \n",
      "A value is trying to be set on a copy of a slice from a DataFrame.\n",
      "Try using .loc[row_indexer,col_indexer] = value instead\n",
      "\n",
      "See the caveats in the documentation: https://pandas.pydata.org/pandas-docs/stable/user_guide/indexing.html#returning-a-view-versus-a-copy\n",
      "  sentences.loc[:, \"len_difference\"] = abs(sentences.loc[:, \"target_len\"].copy() - sentences.loc[:, \"source_len\"].copy()).astype(int)\n"
     ]
    }
   ],
   "source": [
    "sentences.loc[:, \"len_difference\"] = abs(sentences.loc[:, \"target_len\"].copy() - sentences.loc[:, \"source_len\"].copy()).astype(int)"
   ]
  },
  {
   "cell_type": "code",
   "execution_count": 12,
   "id": "16a0a8c9",
   "metadata": {
    "ExecuteTime": {
     "end_time": "2022-11-10T17:37:15.202847Z",
     "start_time": "2022-11-10T17:37:15.088804Z"
    }
   },
   "outputs": [
    {
     "name": "stdout",
     "output_type": "stream",
     "text": [
      "Their diagnosis is clinical and requires no further examination.\n",
      "Dans les autres cas, l’orientation diagnostique se fait à partir de l’analyse des lésions élémentaires, empruntées à la dermatologie : enduits (langue saburrale, langue noire villeuse, muguet), érythèmes (érythroplasie, anémies, mycoses, maladie de Kawasaki, scarlatine), vésicules essentiellement virales, bulles (érythème polymorphe, Stevens-Johnson et Lyell, pemphigoïde cicatricielle, pemphigus, bulles hémorragiques), ulcérations (traumatiques, aphtes, carcinome, médicamenteuses…), plaques blanches (leucoplasies, kératoses frictionnelles, lichen plan, leucoplasie orale chevelue, white sponge naevus, stomatite urémique), atrophie (anémies chroniques, lichen plan), pigmentations (tatouage, lentigo, médicamenteuses, mélanome…), infiltrations (amylose, maladie de Kaposi, myxoedème).\n",
      "\n",
      "\n",
      "Manitoba First Nations Justice Strategy Multidisciplinary too early too early N.B. Domestic Legal Aid Multidisciplinary too early too early N.B. Public Awareness on Family Violence through Community Partnerships Multidisciplinary x\n",
      "Manitoba-4 Manitoba Justice Committees Integrated Justice project Key principles leading to the success of justice committees include providing justice committees with a maximum amount of autonomy within the general policy and legal parameters established by Manitoba Justice; providing administrative and training support to committees through liaison probation officers assigned to each committee; diverse expertise and experiences are brought together on each committee; continuity of committee membership, as it is not uncommon to find members with 10-12 years experience; flexibility of the model to operate in rural, urban, and Aboriginal communities; the ability of committees to act quickly following a referral of a case; and, providing a structure to promote and channel community ownership and responsibility for responding to crime and crime prevention.\n",
      "\n",
      "\n",
      "B.C. First Nations Journeys of Justice -An Elementary (K-7) Curriculum Multidisciplinary x x CACP Victim Services - Waterloo Regional Police Multidisciplinary x\n",
      "Two specific apartment buildings overlooking the garden showed a decrease from 119 occurrences that police responded to in 1993 to 84 occurrences in 1994 a 30% decrease for the street as a whole: increased awareness of a multicultural society; increased community interaction; increase in the sense of empowerment; increased safety and trust in the community; excellent use of crime prevention through environmental design principle, putting a safe activity into an unsafe area produces a reduction in crime; puts into action the Community Based Policing philosophy that focuses on \"planting the seed\" to empower community members to use initiative and accept a partnership responsibility in crime prevention.\n",
      "\n",
      "\n",
      "A Country Commercial Guide for US Companies http://www.buyusainfo.net/docs/x_8186880.pdf US Commercial Service - Doing Business in Mauritania:\n",
      "A Country Commercial Guide for US Companies http://www.buyusainfo.net/docs/x_1707898.pdf US Commercial Service - Ghana Country Commercial Guide FY 2004 http://www.buyusainfo.net/info.cfm?id=123575&keyx=F4E453ADF9AE718A40873297730EA43C&dbf=ccg 1&loadnav=no US Commercial Service - Mauritius Country Guide FY2002 http://www.buyusainfo.net/info.cfm?id=72995&keyx=B20D4BCDED75213D063C9F1D0DFC11D5&dbf=ccg 1&loadnav=no&archived=no&addid= US Commercial Service - Namibia Country Commercial Guide FY 2001 http://www.buyusainfo.net/info.cfm?id=73839&keyx=55BDAF4D830D0523A292C84360BB0B05&dbf=ccg 1&loadnav=no&archived=no&addid=\n",
      "\n",
      "\n"
     ]
    }
   ],
   "source": [
    "greater_differences = sentences.sort_values(\n",
    "    \"len_difference\", ascending=False\n",
    ")\n",
    "for _, row in greater_differences[:4].iterrows():\n",
    "    print(row.english)\n",
    "    print(row.french)\n",
    "    print(\"\\n\")"
   ]
  },
  {
   "cell_type": "code",
   "execution_count": 13,
   "id": "bbe51644",
   "metadata": {
    "ExecuteTime": {
     "end_time": "2022-11-10T17:37:15.325046Z",
     "start_time": "2022-11-10T17:37:15.208352Z"
    }
   },
   "outputs": [],
   "source": [
    "greater_differences = sentences.sort_values(\n",
    "    \"len_difference\", ascending=True\n",
    ")\n",
    "temp_mask = greater_differences[\"len_difference\"] > 40"
   ]
  },
  {
   "cell_type": "code",
   "execution_count": 14,
   "id": "03bfa903",
   "metadata": {
    "ExecuteTime": {
     "end_time": "2022-11-10T17:37:15.355270Z",
     "start_time": "2022-11-10T17:37:15.329069Z"
    }
   },
   "outputs": [
    {
     "name": "stdout",
     "output_type": "stream",
     "text": [
      "Germany In the second quarter of 2004, BO Monitor participants anticipate that overall travel from Germany will increase 7.5 cent compared with the previous year.\n",
      "Par ailleurs, les agents de voyages français sont prudemment optimistes quant à leurs perspectives commerciales après avoir connu une croissance stable de la demande touristique à l'automne et à l'hiver.\n",
      "\n",
      "\n",
      "Add \"leur\" between \"pour s'assurer qu'ils répondent à\" and \"objectifs économiques\".\n",
      "Remplacer « ses » par « leurs » dans la phrase « pour s'assurer qu'ils répondent à ses objectifs économiques et régionaux ».\n",
      "\n",
      "\n",
      "This data is captured as a commodity rather than as an industry good.\n",
      "Les données de commerce sont amassées en utilisant les codes de marchandises plutôt que les codes industriels.\n",
      "\n",
      "\n",
      "Adolescents with chronic pain: practical assessment and management\n",
      "&quot;Perdre du temps ... pour en gagner&quot;. Mieux soigner l'adolescent souffrant de douleurs chroniques\n",
      "\n",
      "\n"
     ]
    }
   ],
   "source": [
    "for _, row in greater_differences[temp_mask][:4].iterrows():\n",
    "    print(row.english)\n",
    "    print(row.french)\n",
    "    print(\"\\n\")"
   ]
  },
  {
   "cell_type": "code",
   "execution_count": 15,
   "id": "a7d24b51",
   "metadata": {
    "ExecuteTime": {
     "end_time": "2022-11-10T17:37:15.420934Z",
     "start_time": "2022-11-10T17:37:15.359434Z"
    }
   },
   "outputs": [],
   "source": [
    "# We choose 40 characters as the difference threshold\n",
    "alignement_mask = sentences.len_difference < 40\n",
    "sentences = sentences[alignement_mask]"
   ]
  },
  {
   "cell_type": "markdown",
   "id": "e9b1074c",
   "metadata": {},
   "source": [
    "## Drop duplicates"
   ]
  },
  {
   "cell_type": "code",
   "execution_count": 16,
   "id": "4de5024e",
   "metadata": {
    "ExecuteTime": {
     "end_time": "2022-11-10T17:37:16.126239Z",
     "start_time": "2022-11-10T17:37:15.427034Z"
    }
   },
   "outputs": [],
   "source": [
    "sentences = sentences.drop_duplicates()"
   ]
  },
  {
   "cell_type": "code",
   "execution_count": 17,
   "id": "17e4fe7c",
   "metadata": {
    "ExecuteTime": {
     "end_time": "2022-11-10T17:37:16.134192Z",
     "start_time": "2022-11-10T17:37:16.129529Z"
    }
   },
   "outputs": [],
   "source": [
    "## Remove the \"o\" character from the beginning of the sentences"
   ]
  },
  {
   "cell_type": "code",
   "execution_count": 18,
   "id": "bb8fa971",
   "metadata": {
    "ExecuteTime": {
     "end_time": "2022-11-10T17:37:17.786828Z",
     "start_time": "2022-11-10T17:37:16.140155Z"
    }
   },
   "outputs": [],
   "source": [
    "import re\n",
    "f = lambda x : re.sub(\"^o \", \"\", x).strip()\n",
    "sentences[\"english\"] = sentences[\"english\"].map(f)\n",
    "sentences[\"french\"] = sentences[\"french\"].map(f)"
   ]
  },
  {
   "cell_type": "code",
   "execution_count": 32,
   "id": "df819f4e",
   "metadata": {
    "ExecuteTime": {
     "end_time": "2022-11-10T17:50:07.898158Z",
     "start_time": "2022-11-10T17:50:07.881933Z"
    }
   },
   "outputs": [
    {
     "name": "stdout",
     "output_type": "stream",
     "text": [
      "For the last updated information on the site status, see the Service and Website Interruption page.\n",
      "Pour la dernière mise à jour de l'état du site, consultez la section Activités d'entretien.\n",
      "\n",
      "\n",
      "Market Information?Asia Pacific Food and Health in Japan Consumer Protection Legislation for Health Foods June 2006\n",
      "Information sur les marchés?L'Asie-Pacifique Alimentation et santé au Japon Direction de l'évaluation et de l'analyse des marchés Juin 2006\n",
      "\n",
      "\n",
      "expiry date and any other storage requirements;\n",
      "date de péremption et prescriptions concernant l'entreposage;\n",
      "\n",
      "\n",
      "It is recommended that Canadian exporters use the services of a German customs broker, importer, agent or distributor to ensure that all essential documentation is correctly prepared and arrives with the shipment.\n",
      "On recommande aux exportateurs de recourir à un courtier en douane, à un importateur, à un agent ou à un distributeur allemand pour s'assurer de bien remplir tous les documents essentiels et de les joindre à l'envoi.\n",
      "\n",
      "\n",
      "American companies slashed investment in new technology last year after the NASDAQ bubble burst.\n",
      "Il y a des signes avant-coureurs indiquant que la demande de produits électroniques s'accroît.\n",
      "\n",
      "\n",
      "223030\n"
     ]
    }
   ],
   "source": [
    "sample = sentences.sample(n=5)\n",
    "for _, row in sample.iterrows():\n",
    "    print(row.english)\n",
    "    print(row.french)\n",
    "    print(\"\\n\")\n",
    "print(len(sentences))"
   ]
  },
  {
   "cell_type": "markdown",
   "id": "0b2f212d",
   "metadata": {},
   "source": [
    "## Export data to files"
   ]
  },
  {
   "cell_type": "code",
   "execution_count": 20,
   "id": "1358df2b",
   "metadata": {
    "ExecuteTime": {
     "end_time": "2022-11-10T17:37:39.408908Z",
     "start_time": "2022-11-10T17:37:17.864729Z"
    }
   },
   "outputs": [],
   "source": [
    "with open(\"merged_shuffled_data_raw.en\", \"w\") as f_en, open(\"merged_shuffled_data_raw.fr\", \"w\") as f_fr:\n",
    "    for _, row in sentences.iterrows():\n",
    "        f_en.write(row.english + \"\\n\")\n",
    "        f_fr.write(row.french + \"\\n\")"
   ]
  },
  {
   "cell_type": "code",
   "execution_count": null,
   "id": "1835e7ea",
   "metadata": {
    "ExecuteTime": {
     "end_time": "2022-11-10T17:12:11.018475Z",
     "start_time": "2022-11-10T17:12:10.449932Z"
    }
   },
   "outputs": [],
   "source": []
  },
  {
   "cell_type": "code",
   "execution_count": 21,
   "id": "d35d1b97",
   "metadata": {
    "ExecuteTime": {
     "end_time": "2022-11-10T17:37:39.993224Z",
     "start_time": "2022-11-10T17:37:39.411398Z"
    }
   },
   "outputs": [
    {
     "data": {
      "text/plain": [
       "False"
      ]
     },
     "execution_count": 21,
     "metadata": {},
     "output_type": "execute_result"
    }
   ],
   "source": [
    "sentences.duplicated().any()"
   ]
  }
 ],
 "metadata": {
  "kernelspec": {
   "display_name": "Python 3",
   "language": "python",
   "name": "python3"
  },
  "language_info": {
   "codemirror_mode": {
    "name": "ipython",
    "version": 3
   },
   "file_extension": ".py",
   "mimetype": "text/x-python",
   "name": "python",
   "nbconvert_exporter": "python",
   "pygments_lexer": "ipython3",
   "version": "3.10.6"
  },
  "varInspector": {
   "cols": {
    "lenName": 16,
    "lenType": 16,
    "lenVar": 40
   },
   "kernels_config": {
    "python": {
     "delete_cmd_postfix": "",
     "delete_cmd_prefix": "del ",
     "library": "var_list.py",
     "varRefreshCmd": "print(var_dic_list())"
    },
    "r": {
     "delete_cmd_postfix": ") ",
     "delete_cmd_prefix": "rm(",
     "library": "var_list.r",
     "varRefreshCmd": "cat(var_dic_list()) "
    }
   },
   "types_to_exclude": [
    "module",
    "function",
    "builtin_function_or_method",
    "instance",
    "_Feature"
   ],
   "window_display": false
  }
 },
 "nbformat": 4,
 "nbformat_minor": 5
}
