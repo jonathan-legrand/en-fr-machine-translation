{
 "cells": [
  {
   "cell_type": "code",
   "execution_count": 1,
   "id": "4715855b",
   "metadata": {
    "ExecuteTime": {
     "end_time": "2022-11-10T16:11:52.004664Z",
     "start_time": "2022-11-10T16:11:51.554276Z"
    }
   },
   "outputs": [],
   "source": [
    "import os\n",
    "import pandas as pd"
   ]
  },
  {
   "cell_type": "markdown",
   "id": "986e6ffe",
   "metadata": {},
   "source": [
    "# Loading"
   ]
  },
  {
   "cell_type": "markdown",
   "id": "1adc4124",
   "metadata": {},
   "source": [
    "## Load EDP"
   ]
  },
  {
   "cell_type": "code",
   "execution_count": 2,
   "id": "2e5adf9c",
   "metadata": {
    "ExecuteTime": {
     "end_time": "2022-11-10T16:11:52.053083Z",
     "start_time": "2022-11-10T16:11:52.008095Z"
    }
   },
   "outputs": [
    {
     "name": "stdout",
     "output_type": "stream",
     "text": [
      "Genetic selection, which provides substantial improvements in both oil content and fatty acid composition, should therefore be expected to enhance the quality of sunflower meal.\n",
      "Selon nos résultats, la teneur en protéines calculée dans les tourteaux décortiqués, à partir des caractéristiques mesurées sur les différentes variétés étudiées, varie dans une gamme de 34 à 44% sur matière brute.\n",
      "\n",
      "\n",
      "There was a significant association between multiple facial fractures and road traffic accidents.\n",
      "Le pic de fréquence (58,2 %) était observé entre 20 et 39 ans et le rapport homme/femme était de 7.1:1.\n",
      "\n",
      "\n",
      "There are two clinical aspects, the minor and the major forms.\n",
      "l’une mineure, dont les symptômes sont peu invalidants, l’autre majeure, comporte une atteinte cutanée et muqueuse buccale et/ou génitale, et peut entraîner une altération de l’état général.\n",
      "\n",
      "\n",
      "The addition of the acyl moiety is required for the protein function and usually mediates protein subcellular localization, protein-protein interaction or protein-membrane interaction.\n",
      "L’objectif de cette revue est de synthétiser les découvertes récentes sur les différentes classes d’acylation des protéines et sur les fonctions cellulaires émergentes que cette acylation procure à certains acides gras saturés.\n",
      "\n",
      "\n",
      "The objective of this review of the literature was to clarify the best way to rise to the indication for surgical treatment of these lesions.\n",
      "L’objectif de cet article était de clarifier la conduite à tenir pour poser l’indication de prise en charge chirurgicale de ces lésions.\n",
      "\n",
      "\n"
     ]
    }
   ],
   "source": [
    "fr_files = sorted(os.listdir(\"EDP/WMT/all/FR\"))\n",
    "en_files = sorted(os.listdir(\"EDP/WMT/all/EN\"))\n",
    "assert fr_files == en_files\n",
    "\n",
    "lines = []\n",
    "en_path = \"EDP/WMT/all/EN\"\n",
    "fr_path = \"EDP/WMT/all/FR\"\n",
    "fnames = en_files\n",
    "for fname in fnames:\n",
    "    with open(os.path.join(en_path, fname), \"r\") as f_en, open(os.path.join(fr_path, fname), \"r\") as f_fr:\n",
    "        for en_line, fr_line in zip(f_en, f_fr):\n",
    "            lines.append((en_line[:-1], fr_line[:-1]))\n",
    "\n",
    "sentences_EDP = pd.DataFrame(lines, columns=(\"english\", \"french\"))\n",
    "sample = sentences_EDP.sample(n=5)\n",
    "for _, row in sample.iterrows():\n",
    "    print(row.english)\n",
    "    print(row.french)\n",
    "    print(\"\\n\")"
   ]
  },
  {
   "cell_type": "markdown",
   "id": "0f27409e",
   "metadata": {},
   "source": [
    "## Load pubmed"
   ]
  },
  {
   "cell_type": "code",
   "execution_count": 3,
   "id": "df257416",
   "metadata": {
    "ExecuteTime": {
     "end_time": "2022-11-10T16:11:52.686244Z",
     "start_time": "2022-11-10T16:11:52.056797Z"
    }
   },
   "outputs": [
    {
     "name": "stdout",
     "output_type": "stream",
     "text": [
      "Cardiovascular disease in the elderly. A new public health challenge and new medical training needs\n",
      "Maladies cardiovasculaires du sujet âgé. Un nouvel enjeu de santé publique et la nécessité d'une nouvelle formation médicale\n",
      "\n",
      "\n",
      "From dysphagia of the patient to medical gastroparesis\n",
      "De la dysphagie du patient a la gastroparésie médicale\n",
      "\n",
      "\n",
      "The specificities of orthopedic trauma in the geriatric patient\n",
      "Les particularités de la traumatologie de l'appareil locomoteur chez le sujet gériatrique\n",
      "\n",
      "\n",
      "The cricopharyngeal muscle and the laryngeal nerves: contribution to the functional anatomy of swallowing\n",
      "Le muscle cricopharyngien et les nerfs laryngés supérieur et inférieur : contribution à l'anatomie fonctionnelle de la déglutition\n",
      "\n",
      "\n",
      "Liver fibrosis: from pathophysiology to therapeutic openings\n",
      "Fibrose hépatique: de la physiopathologie aux implications thérapeutiques\n",
      "\n",
      "\n",
      "48607\n"
     ]
    }
   ],
   "source": [
    "with open(\"PUBMED/pubmed_en_fr.txt\", \"r\") as f_in:\n",
    "    raw_lines = f_in.readlines()  \n",
    "\n",
    "clean_lines = []\n",
    "\n",
    "for index, line in enumerate(raw_lines):\n",
    "    _, en, fr = line.split(\"|\")\n",
    "    en = en[1:-2]\n",
    "    fr = fr[:-2]\n",
    "    clean_lines.append((en, fr))\n",
    "    \n",
    "    # The domain specific corpus should be smaller\n",
    "    if index > 50000:\n",
    "        break\n",
    "\n",
    "sentences_pubmed = pd.DataFrame(clean_lines, columns=(\"english\", \"french\"))\n",
    "\n",
    "# Remove two typical issues from the dataset\n",
    "m_1 = sentences_pubmed.english != \"Not Available\"\n",
    "m_2 = sentences_pubmed.english != \"In Process Citation\"\n",
    "sentences_pubmed = sentences_pubmed[m_1 & m_2]\n",
    "\n",
    "sample = sentences_pubmed.sample(n=5)\n",
    "for _, row in sample.iterrows():\n",
    "    print(row.english)\n",
    "    print(row.french)\n",
    "    print(\"\\n\")\n",
    "    \n",
    "print(len(sentences_pubmed))"
   ]
  },
  {
   "cell_type": "markdown",
   "id": "5b582832",
   "metadata": {},
   "source": [
    "## Load gigafren"
   ]
  },
  {
   "cell_type": "code",
   "execution_count": 4,
   "id": "ef406631",
   "metadata": {
    "ExecuteTime": {
     "end_time": "2022-11-10T16:11:54.987521Z",
     "start_time": "2022-11-10T16:11:52.692665Z"
    }
   },
   "outputs": [
    {
     "name": "stdout",
     "output_type": "stream",
     "text": [
      "Private Label Products Private label brands (also called store brands) are a critical component in the evolution of the retail grocery market, and currently account for 20% of all items sold in American supermarkets.\n",
      "Produits vendus sous la marque du distributeur Les produits vendus sous la marque du distributeur (aussi appelée marque du magasin) sont une composante essentielle de l'évolution du marché de l'épicerie de détail et représentent actuellement 20 % de tous les articles vendus dans les supermarchés américains.\n",
      "\n",
      "\n",
      "March Canada Child Tax Benefit Payments? [ 2007-03-22 ] Canada Revenue Agency:\n",
      "La prestation fiscale canadienne pour enfants de mars? [ 2007-03-22 ] Agence du revenu du Canada :\n",
      "\n",
      "\n",
      "Key sectors of the food and drink industry The \"various food products\" category is the largest sector of the food and drink industry, accounting for 26% of total turnover and 42% of the workforce.\n",
      "Principales branches du secteur des aliments et boissons Les « produits alimentaires divers » sont la plus importante branche du secteur des aliments et boissons, réalisant 26 % des ventes globales et fournissant 42 % de l'emploi dans le secteur.\n",
      "\n",
      "\n",
      "In addition, time must be invested in helping people subscribe and unsubscribe, answering questions, and dealing with mail that does not reach its destination.\n",
      "En outre, il faut consacrer le temps nécessaire pour aider les gens à s'abonner et à annuler leur abonnement, répondre à leurs questions et gérer le courrier qui ne parvient pas à destination.\n",
      "\n",
      "\n",
      "This bill, entitled \"Crown Prerogatives (Parliamentary Control) Bill,\" was proposed by a backbencher, Mr. Tony Benn, and sought to provide a parliamentary role to the exercise of a whole range of prerogative powers.\n",
      "Intitulée «Crown Prerogatives (Parliamentary Control) Bill», la mesure émanait d'un simple député, M. Tony Benn, et visait à conférer au Parlement un rôle dans l'exercice d'un grand nombre de prérogatives.\n",
      "\n",
      "\n",
      "250002\n"
     ]
    }
   ],
   "source": [
    "sentences_gigafren = []\n",
    "gigafren_path = \"gigafren/en-fr\"\n",
    "\n",
    "with open(os.path.join(\n",
    "    gigafren_path, \"giga-fren.en-fr.en\"), \"r\"\n",
    ") as f_en, open(os.path.join(\n",
    "    gigafren_path, \"giga-fren.en-fr.fr\"), \"r\"\n",
    ") as f_fr:\n",
    "    for index, pair in enumerate(zip(f_en, f_fr)):\n",
    "        \n",
    "        # Remove \\n characters\n",
    "        pair = (s[:-1] for s in pair)\n",
    "        \n",
    "        sentences_gigafren.append(pair)\n",
    "        \n",
    "        # Take only the first 250000\n",
    "        if index > 250000:\n",
    "            break\n",
    "            \n",
    "sentences_gigafren = pd.DataFrame(\n",
    "    sentences_gigafren, columns=(\"english\", \"french\")\n",
    ")\n",
    "sample = sentences_gigafren.sample(n=5)\n",
    "for _, row in sample.iterrows():\n",
    "    print(row.english)\n",
    "    print(row.french)\n",
    "    print(\"\\n\")\n",
    "\n",
    "print(len(sentences_gigafren))"
   ]
  },
  {
   "cell_type": "code",
   "execution_count": 5,
   "id": "f4930fdc",
   "metadata": {
    "ExecuteTime": {
     "end_time": "2022-11-10T16:11:55.188632Z",
     "start_time": "2022-11-10T16:11:54.990855Z"
    }
   },
   "outputs": [
    {
     "data": {
      "text/html": [
       "<div>\n",
       "<style scoped>\n",
       "    .dataframe tbody tr th:only-of-type {\n",
       "        vertical-align: middle;\n",
       "    }\n",
       "\n",
       "    .dataframe tbody tr th {\n",
       "        vertical-align: top;\n",
       "    }\n",
       "\n",
       "    .dataframe thead th {\n",
       "        text-align: right;\n",
       "    }\n",
       "</style>\n",
       "<table border=\"1\" class=\"dataframe\">\n",
       "  <thead>\n",
       "    <tr style=\"text-align: right;\">\n",
       "      <th></th>\n",
       "      <th>english</th>\n",
       "      <th>french</th>\n",
       "    </tr>\n",
       "  </thead>\n",
       "  <tbody>\n",
       "    <tr>\n",
       "      <th>0</th>\n",
       "      <td>Cependant, les réservations pour le T4 2002 so...</td>\n",
       "      <td>Recent retail and wholesale trade data also su...</td>\n",
       "    </tr>\n",
       "    <tr>\n",
       "      <th>1</th>\n",
       "      <td>o Click on the Institutions tab at the top of ...</td>\n",
       "      <td>o Cliquez sur l'onglet Institutions au haut de...</td>\n",
       "    </tr>\n",
       "    <tr>\n",
       "      <th>2</th>\n",
       "      <td>o Canadian Environmental Solutions (CES) - Ind...</td>\n",
       "      <td>o Solutions environnementales canadiennes (SEC...</td>\n",
       "    </tr>\n",
       "    <tr>\n",
       "      <th>3</th>\n",
       "      <td>Since the 1965 introduction of the Canadian fl...</td>\n",
       "      <td>Depuis l'adoption du drapeau canadien en 1965,...</td>\n",
       "    </tr>\n",
       "    <tr>\n",
       "      <th>4</th>\n",
       "      <td>It could be that a perceived, whether real or ...</td>\n",
       "      <td>Il se peut que la perception, réelle ou non, d...</td>\n",
       "    </tr>\n",
       "    <tr>\n",
       "      <th>...</th>\n",
       "      <td>...</td>\n",
       "      <td>...</td>\n",
       "    </tr>\n",
       "    <tr>\n",
       "      <th>301519</th>\n",
       "      <td>o TRAINING</td>\n",
       "      <td>o FORMATION</td>\n",
       "    </tr>\n",
       "    <tr>\n",
       "      <th>301520</th>\n",
       "      <td>Beef and Poultry Glut Appears to be Easing CAN...</td>\n",
       "      <td>La surabondance de boeuf et de volaille semble...</td>\n",
       "    </tr>\n",
       "    <tr>\n",
       "      <th>301521</th>\n",
       "      <td>Register a Canadian Company To register your C...</td>\n",
       "      <td>Inscription de votre entreprise canadienne Pou...</td>\n",
       "    </tr>\n",
       "    <tr>\n",
       "      <th>301522</th>\n",
       "      <td>Copepods distribution in relation to a Cape Gh...</td>\n",
       "      <td>Distribution des copépodes en relation avec la...</td>\n",
       "    </tr>\n",
       "    <tr>\n",
       "      <th>301523</th>\n",
       "      <td>It was noted that Canada is committed to multi...</td>\n",
       "      <td>Le Canada est un partisan de l'aide multilatér...</td>\n",
       "    </tr>\n",
       "  </tbody>\n",
       "</table>\n",
       "<p>301524 rows × 2 columns</p>\n",
       "</div>"
      ],
      "text/plain": [
       "                                                  english  \\\n",
       "0       Cependant, les réservations pour le T4 2002 so...   \n",
       "1       o Click on the Institutions tab at the top of ...   \n",
       "2       o Canadian Environmental Solutions (CES) - Ind...   \n",
       "3       Since the 1965 introduction of the Canadian fl...   \n",
       "4       It could be that a perceived, whether real or ...   \n",
       "...                                                   ...   \n",
       "301519                                         o TRAINING   \n",
       "301520  Beef and Poultry Glut Appears to be Easing CAN...   \n",
       "301521  Register a Canadian Company To register your C...   \n",
       "301522  Copepods distribution in relation to a Cape Gh...   \n",
       "301523  It was noted that Canada is committed to multi...   \n",
       "\n",
       "                                                   french  \n",
       "0       Recent retail and wholesale trade data also su...  \n",
       "1       o Cliquez sur l'onglet Institutions au haut de...  \n",
       "2       o Solutions environnementales canadiennes (SEC...  \n",
       "3       Depuis l'adoption du drapeau canadien en 1965,...  \n",
       "4       Il se peut que la perception, réelle ou non, d...  \n",
       "...                                                   ...  \n",
       "301519                                        o FORMATION  \n",
       "301520  La surabondance de boeuf et de volaille semble...  \n",
       "301521  Inscription de votre entreprise canadienne Pou...  \n",
       "301522  Distribution des copépodes en relation avec la...  \n",
       "301523  Le Canada est un partisan de l'aide multilatér...  \n",
       "\n",
       "[301524 rows x 2 columns]"
      ]
     },
     "execution_count": 5,
     "metadata": {},
     "output_type": "execute_result"
    }
   ],
   "source": [
    "sentences = pd.concat((sentences_EDP, sentences_gigafren, sentences_pubmed))\n",
    "sentences = sentences.sample(frac=1).reset_index(drop=True)\n",
    "sentences"
   ]
  },
  {
   "cell_type": "markdown",
   "id": "b984bcdd",
   "metadata": {},
   "source": [
    "# Cleaning"
   ]
  },
  {
   "cell_type": "code",
   "execution_count": 6,
   "id": "482a4341",
   "metadata": {
    "ExecuteTime": {
     "end_time": "2022-11-10T16:11:55.567327Z",
     "start_time": "2022-11-10T16:11:55.192894Z"
    }
   },
   "outputs": [],
   "source": [
    "sentences[\"source_len\"] = sentences.iloc[:, 0].map(len)\n",
    "sentences[\"target_len\"] = sentences.iloc[:, 1].map(len)"
   ]
  },
  {
   "cell_type": "code",
   "execution_count": 7,
   "id": "e9bd7109",
   "metadata": {
    "ExecuteTime": {
     "end_time": "2022-11-10T16:11:55.599141Z",
     "start_time": "2022-11-10T16:11:55.571109Z"
    }
   },
   "outputs": [
    {
     "name": "stdout",
     "output_type": "stream",
     "text": [
      "8.4 Within a ten year time-frame, what should have changed in relation to the vitality of official language minority communities and linguistic duality in the field of justice, following a thorough implementation of Section 41 of the Official Languages Act by Justice Canada? 8.5 How can progress be measured objectively?\n",
      "8.4 En se donnant un horizon de planification d'une dizaine d'années, qu'est-ce qui devra avoir changé concernant l'épanouissement des communautés et la dualité linguistique dans le domaine de la justice suite à une mise en oeuvre diligente de l'article 41 de la Loi sur les langues officielles par Justice Canada? 8.5 Comment pourrons-nous mesurer objectivement les progrès accomplis ?\n"
     ]
    }
   ],
   "source": [
    "L_MAX = 300\n",
    "L_MIN = 10\n",
    "len_mask = (sentences.source_len < L_MAX) & (sentences.source_len > L_MIN) & (sentences.target_len > L_MIN) & (sentences.target_len > L_MIN)\n",
    "bad_sample = sentences[~len_mask].sample(n=1)\n",
    "print(bad_sample.iloc[0, 0])\n",
    "print(bad_sample.iloc[0, 1])"
   ]
  },
  {
   "cell_type": "code",
   "execution_count": 8,
   "id": "68d1edab",
   "metadata": {
    "ExecuteTime": {
     "end_time": "2022-11-10T16:11:55.667023Z",
     "start_time": "2022-11-10T16:11:55.603033Z"
    }
   },
   "outputs": [
    {
     "name": "stdout",
     "output_type": "stream",
     "text": [
      "Percentage of sentences left if we removed the sentences longer than 300 and shorter than 10 characters : 0.95\n",
      "286188 sentences left\n"
     ]
    }
   ],
   "source": [
    "n_sentences_left = len(sentences[len_mask])\n",
    "fraction_left = n_sentences_left / len(sentences)\n",
    "print(\"Percentage of sentences left if we removed the sentences longer than {} and shorter than {} characters : {:.2f}\".format(L_MAX, L_MIN, fraction_left))\n",
    "print(\"{} sentences left\".format(n_sentences_left))"
   ]
  },
  {
   "cell_type": "code",
   "execution_count": 9,
   "id": "48c0c358",
   "metadata": {
    "ExecuteTime": {
     "end_time": "2022-11-10T16:11:55.707960Z",
     "start_time": "2022-11-10T16:11:55.670735Z"
    }
   },
   "outputs": [],
   "source": [
    "# Update sentences content\n",
    "sentences = sentences[len_mask]"
   ]
  },
  {
   "cell_type": "markdown",
   "id": "31b81029",
   "metadata": {},
   "source": [
    "## Find bad alignements\n",
    "\n",
    "Differences in target and source sentence lengths may indicate bad alignements. \n",
    "We remove from the dataframe the pairs for which the character count difference is superior to a certain threshold."
   ]
  },
  {
   "cell_type": "code",
   "execution_count": 10,
   "id": "ad89399a",
   "metadata": {
    "ExecuteTime": {
     "end_time": "2022-11-10T16:11:55.730105Z",
     "start_time": "2022-11-10T16:11:55.714871Z"
    }
   },
   "outputs": [
    {
     "name": "stderr",
     "output_type": "stream",
     "text": [
      "/tmp/ipykernel_29166/1372219726.py:1: SettingWithCopyWarning: \n",
      "A value is trying to be set on a copy of a slice from a DataFrame.\n",
      "Try using .loc[row_indexer,col_indexer] = value instead\n",
      "\n",
      "See the caveats in the documentation: https://pandas.pydata.org/pandas-docs/stable/user_guide/indexing.html#returning-a-view-versus-a-copy\n",
      "  sentences.loc[:, \"len_difference\"] = abs(sentences.loc[:, \"target_len\"].copy() - sentences.loc[:, \"source_len\"].copy()).astype(int)\n"
     ]
    }
   ],
   "source": [
    "sentences.loc[:, \"len_difference\"] = abs(sentences.loc[:, \"target_len\"].copy() - sentences.loc[:, \"source_len\"].copy()).astype(int)"
   ]
  },
  {
   "cell_type": "code",
   "execution_count": 11,
   "id": "16a0a8c9",
   "metadata": {
    "ExecuteTime": {
     "end_time": "2022-11-10T16:11:55.843066Z",
     "start_time": "2022-11-10T16:11:55.734482Z"
    }
   },
   "outputs": [
    {
     "name": "stdout",
     "output_type": "stream",
     "text": [
      "Their diagnosis is clinical and requires no further examination.\n",
      "Dans les autres cas, l’orientation diagnostique se fait à partir de l’analyse des lésions élémentaires, empruntées à la dermatologie : enduits (langue saburrale, langue noire villeuse, muguet), érythèmes (érythroplasie, anémies, mycoses, maladie de Kawasaki, scarlatine), vésicules essentiellement virales, bulles (érythème polymorphe, Stevens-Johnson et Lyell, pemphigoïde cicatricielle, pemphigus, bulles hémorragiques), ulcérations (traumatiques, aphtes, carcinome, médicamenteuses…), plaques blanches (leucoplasies, kératoses frictionnelles, lichen plan, leucoplasie orale chevelue, white sponge naevus, stomatite urémique), atrophie (anémies chroniques, lichen plan), pigmentations (tatouage, lentigo, médicamenteuses, mélanome…), infiltrations (amylose, maladie de Kaposi, myxoedème).\n",
      "\n",
      "\n",
      "Manitoba First Nations Justice Strategy Multidisciplinary too early too early N.B. Domestic Legal Aid Multidisciplinary too early too early N.B. Public Awareness on Family Violence through Community Partnerships Multidisciplinary x\n",
      "Manitoba-4 Manitoba Justice Committees Integrated Justice project Key principles leading to the success of justice committees include providing justice committees with a maximum amount of autonomy within the general policy and legal parameters established by Manitoba Justice; providing administrative and training support to committees through liaison probation officers assigned to each committee; diverse expertise and experiences are brought together on each committee; continuity of committee membership, as it is not uncommon to find members with 10-12 years experience; flexibility of the model to operate in rural, urban, and Aboriginal communities; the ability of committees to act quickly following a referral of a case; and, providing a structure to promote and channel community ownership and responsibility for responding to crime and crime prevention.\n",
      "\n",
      "\n",
      "B.C. First Nations Journeys of Justice -An Elementary (K-7) Curriculum Multidisciplinary x x CACP Victim Services - Waterloo Regional Police Multidisciplinary x\n",
      "Two specific apartment buildings overlooking the garden showed a decrease from 119 occurrences that police responded to in 1993 to 84 occurrences in 1994 a 30% decrease for the street as a whole: increased awareness of a multicultural society; increased community interaction; increase in the sense of empowerment; increased safety and trust in the community; excellent use of crime prevention through environmental design principle, putting a safe activity into an unsafe area produces a reduction in crime; puts into action the Community Based Policing philosophy that focuses on \"planting the seed\" to empower community members to use initiative and accept a partnership responsibility in crime prevention.\n",
      "\n",
      "\n",
      "A Country Commercial Guide for US Companies http://www.buyusainfo.net/docs/x_8186880.pdf US Commercial Service - Doing Business in Mauritania:\n",
      "A Country Commercial Guide for US Companies http://www.buyusainfo.net/docs/x_1707898.pdf US Commercial Service - Ghana Country Commercial Guide FY 2004 http://www.buyusainfo.net/info.cfm?id=123575&keyx=F4E453ADF9AE718A40873297730EA43C&dbf=ccg 1&loadnav=no US Commercial Service - Mauritius Country Guide FY2002 http://www.buyusainfo.net/info.cfm?id=72995&keyx=B20D4BCDED75213D063C9F1D0DFC11D5&dbf=ccg 1&loadnav=no&archived=no&addid= US Commercial Service - Namibia Country Commercial Guide FY 2001 http://www.buyusainfo.net/info.cfm?id=73839&keyx=55BDAF4D830D0523A292C84360BB0B05&dbf=ccg 1&loadnav=no&archived=no&addid=\n",
      "\n",
      "\n"
     ]
    }
   ],
   "source": [
    "greater_differences = sentences.sort_values(\n",
    "    \"len_difference\", ascending=False\n",
    ")\n",
    "for _, row in greater_differences[:4].iterrows():\n",
    "    print(row.english)\n",
    "    print(row.french)\n",
    "    print(\"\\n\")"
   ]
  },
  {
   "cell_type": "code",
   "execution_count": 12,
   "id": "bbe51644",
   "metadata": {
    "ExecuteTime": {
     "end_time": "2022-11-10T16:11:55.966749Z",
     "start_time": "2022-11-10T16:11:55.845911Z"
    }
   },
   "outputs": [],
   "source": [
    "greater_differences = sentences.sort_values(\n",
    "    \"len_difference\", ascending=True\n",
    ")\n",
    "temp_mask = greater_differences[\"len_difference\"] > 40"
   ]
  },
  {
   "cell_type": "code",
   "execution_count": 13,
   "id": "03bfa903",
   "metadata": {
    "ExecuteTime": {
     "end_time": "2022-11-10T16:11:55.997201Z",
     "start_time": "2022-11-10T16:11:55.971193Z"
    }
   },
   "outputs": [
    {
     "name": "stdout",
     "output_type": "stream",
     "text": [
      "o On the other hand, travellers from overseas countries spent $7.9 billion in Canada in 2006, a 2.8% gain over 2005.\n",
      "o D'autre part, les voyageurs en provenance des pays d'outre-mer ont dépensé 7,9 milliards de dollars au Canada en 2006, un gain de 2,8 % par rapport à 2005.\n",
      "\n",
      "\n",
      "o Combining the DKS U.S. Travel Study research with the Explorer Segmentation Research study, the CTC has been able to identify three key customer segments that can deliver the best potential ROI in the US market.\n",
      "o En combinant les résultats de deux études, l'une de la firme DKS sur le marché américain du voyage et l'autre autour du quotient explorateur, la CCT est parvenue à dégager trois grands profils de consommateurs à haut rendement pour le marché américain.\n",
      "\n",
      "\n",
      "The MAB conducted reviews of and offered advice on a number of issues of strategic importance, including comments on the specific action plans developed by the OSB to achieve its strategic objectives and on the results obtained.\n",
      "Ainsi, le CCG s'est penché sur de nombreuses questions d'importance stratégique sur lesquelles il a exprimé avis et commentaires, entre autres, sur les plans d'action élaborés par le BSF pour atteindre ses objectifs stratégiques et sur les résultats qu'il en a obtenus.\n",
      "\n",
      "\n",
      "Tourism depends on the consumption of natural resources to move, feed and entertain travellers.\n",
      "Le tourisme dépend de la consommation de ressources naturelles pour les déplacements, l'alimentation et le divertissement des voyageurs.\n",
      "\n",
      "\n"
     ]
    }
   ],
   "source": [
    "for _, row in greater_differences[temp_mask][:4].iterrows():\n",
    "    print(row.english)\n",
    "    print(row.french)\n",
    "    print(\"\\n\")"
   ]
  },
  {
   "cell_type": "code",
   "execution_count": 14,
   "id": "a7d24b51",
   "metadata": {
    "ExecuteTime": {
     "end_time": "2022-11-10T16:11:56.064241Z",
     "start_time": "2022-11-10T16:11:56.001591Z"
    }
   },
   "outputs": [],
   "source": [
    "# We choose 40 characters as the difference threshold\n",
    "alignement_mask = sentences.len_difference < 40\n",
    "sentences = sentences[alignement_mask]"
   ]
  },
  {
   "cell_type": "code",
   "execution_count": 15,
   "id": "df819f4e",
   "metadata": {
    "ExecuteTime": {
     "end_time": "2022-11-10T16:11:56.099571Z",
     "start_time": "2022-11-10T16:11:56.068574Z"
    }
   },
   "outputs": [
    {
     "name": "stdout",
     "output_type": "stream",
     "text": [
      "There are a number of distinct categories that protect intellectual property.\n",
      "La propriété intellectuelle est protégée de plusieurs façons.\n",
      "\n",
      "\n",
      "Pseudotumoral soft tissue masses in children and adolescents\n",
      "Masses des tissus mous d'allure tumorale de l'enfant et de l'adolescent\n",
      "\n",
      "\n",
      "o South Carolina was ranked 43rd in the country for per capita income at US$26,138 in 2003.\n",
      "o La Caroline du Sud se classait 43e au pays en 2003 pour son revenu par habitant, qui se chiffrait à 26 138 $ US.\n",
      "\n",
      "\n",
      "Research, Technology, Innovation Assistance Programs Federal Government Assistance Programs Assistance Programs\n",
      "Recherche technologie et l'innovation Programmes d'aide Programmes d'aide financière du gouvernement fédéral Programmes d'aide\n",
      "\n",
      "\n",
      "Monitoring Canada's Accommodation Industry During A Challenging Year - 2003 The Impacts Of The Iraq War And SARS Quarter 3 Results\n",
      "Revenus provenant de la location de chambres, AACJ 2003 par rapport à 2002 - Est de l'Ontario -5,7 % 140 Revenus (millions $) 120 100 80 60\n",
      "\n",
      "\n",
      "224767\n"
     ]
    }
   ],
   "source": [
    "sample = sentences.sample(n=5)\n",
    "for _, row in sample.iterrows():\n",
    "    print(row.english)\n",
    "    print(row.french)\n",
    "    print(\"\\n\")\n",
    "print(len(sentences))"
   ]
  },
  {
   "cell_type": "code",
   "execution_count": 17,
   "id": "c89a368a",
   "metadata": {
    "ExecuteTime": {
     "end_time": "2022-11-10T16:19:21.441301Z",
     "start_time": "2022-11-10T16:19:00.333453Z"
    }
   },
   "outputs": [],
   "source": [
    "with open(\"merged_shuffled_data_raw.en\", \"w\") as f_en, open(\"merged_shuffled_data_raw.fr\", \"w\") as f_fr:\n",
    "    for _, row in sentences.iterrows():\n",
    "        f_en.write(row.english + \"\\n\")\n",
    "        f_fr.write(row.french + \"\\n\")"
   ]
  },
  {
   "cell_type": "code",
   "execution_count": 18,
   "id": "50455030",
   "metadata": {
    "ExecuteTime": {
     "end_time": "2022-11-10T16:19:49.368558Z",
     "start_time": "2022-11-10T16:19:49.355483Z"
    }
   },
   "outputs": [
    {
     "data": {
      "text/html": [
       "<div>\n",
       "<style scoped>\n",
       "    .dataframe tbody tr th:only-of-type {\n",
       "        vertical-align: middle;\n",
       "    }\n",
       "\n",
       "    .dataframe tbody tr th {\n",
       "        vertical-align: top;\n",
       "    }\n",
       "\n",
       "    .dataframe thead th {\n",
       "        text-align: right;\n",
       "    }\n",
       "</style>\n",
       "<table border=\"1\" class=\"dataframe\">\n",
       "  <thead>\n",
       "    <tr style=\"text-align: right;\">\n",
       "      <th></th>\n",
       "      <th>english</th>\n",
       "      <th>french</th>\n",
       "      <th>source_len</th>\n",
       "      <th>target_len</th>\n",
       "      <th>len_difference</th>\n",
       "    </tr>\n",
       "  </thead>\n",
       "  <tbody>\n",
       "    <tr>\n",
       "      <th>0</th>\n",
       "      <td>Cependant, les réservations pour le T4 2002 so...</td>\n",
       "      <td>Recent retail and wholesale trade data also su...</td>\n",
       "      <td>119</td>\n",
       "      <td>140</td>\n",
       "      <td>21</td>\n",
       "    </tr>\n",
       "    <tr>\n",
       "      <th>1</th>\n",
       "      <td>o Click on the Institutions tab at the top of ...</td>\n",
       "      <td>o Cliquez sur l'onglet Institutions au haut de...</td>\n",
       "      <td>140</td>\n",
       "      <td>157</td>\n",
       "      <td>17</td>\n",
       "    </tr>\n",
       "    <tr>\n",
       "      <th>2</th>\n",
       "      <td>o Canadian Environmental Solutions (CES) - Ind...</td>\n",
       "      <td>o Solutions environnementales canadiennes (SEC...</td>\n",
       "      <td>59</td>\n",
       "      <td>67</td>\n",
       "      <td>8</td>\n",
       "    </tr>\n",
       "    <tr>\n",
       "      <th>3</th>\n",
       "      <td>Since the 1965 introduction of the Canadian fl...</td>\n",
       "      <td>Depuis l'adoption du drapeau canadien en 1965,...</td>\n",
       "      <td>121</td>\n",
       "      <td>109</td>\n",
       "      <td>12</td>\n",
       "    </tr>\n",
       "    <tr>\n",
       "      <th>4</th>\n",
       "      <td>It could be that a perceived, whether real or ...</td>\n",
       "      <td>Il se peut que la perception, réelle ou non, d...</td>\n",
       "      <td>135</td>\n",
       "      <td>136</td>\n",
       "      <td>1</td>\n",
       "    </tr>\n",
       "  </tbody>\n",
       "</table>\n",
       "</div>"
      ],
      "text/plain": [
       "                                             english  \\\n",
       "0  Cependant, les réservations pour le T4 2002 so...   \n",
       "1  o Click on the Institutions tab at the top of ...   \n",
       "2  o Canadian Environmental Solutions (CES) - Ind...   \n",
       "3  Since the 1965 introduction of the Canadian fl...   \n",
       "4  It could be that a perceived, whether real or ...   \n",
       "\n",
       "                                              french  source_len  target_len  \\\n",
       "0  Recent retail and wholesale trade data also su...         119         140   \n",
       "1  o Cliquez sur l'onglet Institutions au haut de...         140         157   \n",
       "2  o Solutions environnementales canadiennes (SEC...          59          67   \n",
       "3  Depuis l'adoption du drapeau canadien en 1965,...         121         109   \n",
       "4  Il se peut que la perception, réelle ou non, d...         135         136   \n",
       "\n",
       "   len_difference  \n",
       "0              21  \n",
       "1              17  \n",
       "2               8  \n",
       "3              12  \n",
       "4               1  "
      ]
     },
     "execution_count": 18,
     "metadata": {},
     "output_type": "execute_result"
    }
   ],
   "source": [
    "sentences.head()"
   ]
  }
 ],
 "metadata": {
  "kernelspec": {
   "display_name": "Python 3",
   "language": "python",
   "name": "python3"
  },
  "language_info": {
   "codemirror_mode": {
    "name": "ipython",
    "version": 3
   },
   "file_extension": ".py",
   "mimetype": "text/x-python",
   "name": "python",
   "nbconvert_exporter": "python",
   "pygments_lexer": "ipython3",
   "version": "3.10.6"
  },
  "varInspector": {
   "cols": {
    "lenName": 16,
    "lenType": 16,
    "lenVar": 40
   },
   "kernels_config": {
    "python": {
     "delete_cmd_postfix": "",
     "delete_cmd_prefix": "del ",
     "library": "var_list.py",
     "varRefreshCmd": "print(var_dic_list())"
    },
    "r": {
     "delete_cmd_postfix": ") ",
     "delete_cmd_prefix": "rm(",
     "library": "var_list.r",
     "varRefreshCmd": "cat(var_dic_list()) "
    }
   },
   "types_to_exclude": [
    "module",
    "function",
    "builtin_function_or_method",
    "instance",
    "_Feature"
   ],
   "window_display": false
  }
 },
 "nbformat": 4,
 "nbformat_minor": 5
}
